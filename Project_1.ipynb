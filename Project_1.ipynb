{
 "cells": [
  {
   "cell_type": "code",
   "execution_count": 8,
   "id": "0a2d0164-d397-410b-be12-5be1aec6f823",
   "metadata": {},
   "outputs": [
    {
     "ename": "FileNotFoundError",
     "evalue": "[Errno 2] No such file or directory: 'PBCD_J.XPT'",
     "output_type": "error",
     "traceback": [
      "\u001b[1;31m---------------------------------------------------------------------------\u001b[0m",
      "\u001b[1;31mFileNotFoundError\u001b[0m                         Traceback (most recent call last)",
      "Cell \u001b[1;32mIn[8], line 12\u001b[0m\n\u001b[0;32m      9\u001b[0m \u001b[38;5;28;01mimport\u001b[39;00m \u001b[38;5;21;01mnumpy\u001b[39;00m \u001b[38;5;28;01mas\u001b[39;00m \u001b[38;5;21;01mnp\u001b[39;00m\n\u001b[0;32m     10\u001b[0m \u001b[38;5;28;01mimport\u001b[39;00m \u001b[38;5;21;01mseaborn\u001b[39;00m \u001b[38;5;28;01mas\u001b[39;00m \u001b[38;5;21;01msns\u001b[39;00m\n\u001b[1;32m---> 12\u001b[0m mag \u001b[38;5;241m=\u001b[39m \u001b[43mpd\u001b[49m\u001b[38;5;241;43m.\u001b[39;49m\u001b[43mread_sas\u001b[49m\u001b[43m(\u001b[49m\u001b[38;5;124;43m\"\u001b[39;49m\u001b[38;5;124;43mPBCD_J.XPT\u001b[39;49m\u001b[38;5;124;43m\"\u001b[39;49m\u001b[43m)\u001b[49m\n\u001b[0;32m     14\u001b[0m \u001b[38;5;28mprint\u001b[39m(mag\u001b[38;5;241m.\u001b[39mhead())\n",
      "File \u001b[1;32m~\\anaconda3\\envs\\dev\\lib\\site-packages\\pandas\\io\\sas\\sasreader.py:154\u001b[0m, in \u001b[0;36mread_sas\u001b[1;34m(filepath_or_buffer, format, index, encoding, chunksize, iterator, compression)\u001b[0m\n\u001b[0;32m    151\u001b[0m \u001b[38;5;28;01mif\u001b[39;00m \u001b[38;5;28mformat\u001b[39m\u001b[38;5;241m.\u001b[39mlower() \u001b[38;5;241m==\u001b[39m \u001b[38;5;124m\"\u001b[39m\u001b[38;5;124mxport\u001b[39m\u001b[38;5;124m\"\u001b[39m:\n\u001b[0;32m    152\u001b[0m     \u001b[38;5;28;01mfrom\u001b[39;00m \u001b[38;5;21;01mpandas\u001b[39;00m\u001b[38;5;21;01m.\u001b[39;00m\u001b[38;5;21;01mio\u001b[39;00m\u001b[38;5;21;01m.\u001b[39;00m\u001b[38;5;21;01msas\u001b[39;00m\u001b[38;5;21;01m.\u001b[39;00m\u001b[38;5;21;01msas_xport\u001b[39;00m \u001b[38;5;28;01mimport\u001b[39;00m XportReader\n\u001b[1;32m--> 154\u001b[0m     reader \u001b[38;5;241m=\u001b[39m \u001b[43mXportReader\u001b[49m\u001b[43m(\u001b[49m\n\u001b[0;32m    155\u001b[0m \u001b[43m        \u001b[49m\u001b[43mfilepath_or_buffer\u001b[49m\u001b[43m,\u001b[49m\n\u001b[0;32m    156\u001b[0m \u001b[43m        \u001b[49m\u001b[43mindex\u001b[49m\u001b[38;5;241;43m=\u001b[39;49m\u001b[43mindex\u001b[49m\u001b[43m,\u001b[49m\n\u001b[0;32m    157\u001b[0m \u001b[43m        \u001b[49m\u001b[43mencoding\u001b[49m\u001b[38;5;241;43m=\u001b[39;49m\u001b[43mencoding\u001b[49m\u001b[43m,\u001b[49m\n\u001b[0;32m    158\u001b[0m \u001b[43m        \u001b[49m\u001b[43mchunksize\u001b[49m\u001b[38;5;241;43m=\u001b[39;49m\u001b[43mchunksize\u001b[49m\u001b[43m,\u001b[49m\n\u001b[0;32m    159\u001b[0m \u001b[43m        \u001b[49m\u001b[43mcompression\u001b[49m\u001b[38;5;241;43m=\u001b[39;49m\u001b[43mcompression\u001b[49m\u001b[43m,\u001b[49m\n\u001b[0;32m    160\u001b[0m \u001b[43m    \u001b[49m\u001b[43m)\u001b[49m\n\u001b[0;32m    161\u001b[0m \u001b[38;5;28;01melif\u001b[39;00m \u001b[38;5;28mformat\u001b[39m\u001b[38;5;241m.\u001b[39mlower() \u001b[38;5;241m==\u001b[39m \u001b[38;5;124m\"\u001b[39m\u001b[38;5;124msas7bdat\u001b[39m\u001b[38;5;124m\"\u001b[39m:\n\u001b[0;32m    162\u001b[0m     \u001b[38;5;28;01mfrom\u001b[39;00m \u001b[38;5;21;01mpandas\u001b[39;00m\u001b[38;5;21;01m.\u001b[39;00m\u001b[38;5;21;01mio\u001b[39;00m\u001b[38;5;21;01m.\u001b[39;00m\u001b[38;5;21;01msas\u001b[39;00m\u001b[38;5;21;01m.\u001b[39;00m\u001b[38;5;21;01msas7bdat\u001b[39;00m \u001b[38;5;28;01mimport\u001b[39;00m SAS7BDATReader\n",
      "File \u001b[1;32m~\\anaconda3\\envs\\dev\\lib\\site-packages\\pandas\\io\\sas\\sas_xport.py:270\u001b[0m, in \u001b[0;36mXportReader.__init__\u001b[1;34m(self, filepath_or_buffer, index, encoding, chunksize, compression)\u001b[0m\n\u001b[0;32m    267\u001b[0m \u001b[38;5;28mself\u001b[39m\u001b[38;5;241m.\u001b[39m_index \u001b[38;5;241m=\u001b[39m index\n\u001b[0;32m    268\u001b[0m \u001b[38;5;28mself\u001b[39m\u001b[38;5;241m.\u001b[39m_chunksize \u001b[38;5;241m=\u001b[39m chunksize\n\u001b[1;32m--> 270\u001b[0m \u001b[38;5;28mself\u001b[39m\u001b[38;5;241m.\u001b[39mhandles \u001b[38;5;241m=\u001b[39m \u001b[43mget_handle\u001b[49m\u001b[43m(\u001b[49m\n\u001b[0;32m    271\u001b[0m \u001b[43m    \u001b[49m\u001b[43mfilepath_or_buffer\u001b[49m\u001b[43m,\u001b[49m\n\u001b[0;32m    272\u001b[0m \u001b[43m    \u001b[49m\u001b[38;5;124;43m\"\u001b[39;49m\u001b[38;5;124;43mrb\u001b[39;49m\u001b[38;5;124;43m\"\u001b[39;49m\u001b[43m,\u001b[49m\n\u001b[0;32m    273\u001b[0m \u001b[43m    \u001b[49m\u001b[43mencoding\u001b[49m\u001b[38;5;241;43m=\u001b[39;49m\u001b[43mencoding\u001b[49m\u001b[43m,\u001b[49m\n\u001b[0;32m    274\u001b[0m \u001b[43m    \u001b[49m\u001b[43mis_text\u001b[49m\u001b[38;5;241;43m=\u001b[39;49m\u001b[38;5;28;43;01mFalse\u001b[39;49;00m\u001b[43m,\u001b[49m\n\u001b[0;32m    275\u001b[0m \u001b[43m    \u001b[49m\u001b[43mcompression\u001b[49m\u001b[38;5;241;43m=\u001b[39;49m\u001b[43mcompression\u001b[49m\u001b[43m,\u001b[49m\n\u001b[0;32m    276\u001b[0m \u001b[43m\u001b[49m\u001b[43m)\u001b[49m\n\u001b[0;32m    277\u001b[0m \u001b[38;5;28mself\u001b[39m\u001b[38;5;241m.\u001b[39mfilepath_or_buffer \u001b[38;5;241m=\u001b[39m \u001b[38;5;28mself\u001b[39m\u001b[38;5;241m.\u001b[39mhandles\u001b[38;5;241m.\u001b[39mhandle\n\u001b[0;32m    279\u001b[0m \u001b[38;5;28;01mtry\u001b[39;00m:\n",
      "File \u001b[1;32m~\\anaconda3\\envs\\dev\\lib\\site-packages\\pandas\\io\\common.py:882\u001b[0m, in \u001b[0;36mget_handle\u001b[1;34m(path_or_buf, mode, encoding, compression, memory_map, is_text, errors, storage_options)\u001b[0m\n\u001b[0;32m    873\u001b[0m         handle \u001b[38;5;241m=\u001b[39m \u001b[38;5;28mopen\u001b[39m(\n\u001b[0;32m    874\u001b[0m             handle,\n\u001b[0;32m    875\u001b[0m             ioargs\u001b[38;5;241m.\u001b[39mmode,\n\u001b[1;32m   (...)\u001b[0m\n\u001b[0;32m    878\u001b[0m             newline\u001b[38;5;241m=\u001b[39m\u001b[38;5;124m\"\u001b[39m\u001b[38;5;124m\"\u001b[39m,\n\u001b[0;32m    879\u001b[0m         )\n\u001b[0;32m    880\u001b[0m     \u001b[38;5;28;01melse\u001b[39;00m:\n\u001b[0;32m    881\u001b[0m         \u001b[38;5;66;03m# Binary mode\u001b[39;00m\n\u001b[1;32m--> 882\u001b[0m         handle \u001b[38;5;241m=\u001b[39m \u001b[38;5;28;43mopen\u001b[39;49m\u001b[43m(\u001b[49m\u001b[43mhandle\u001b[49m\u001b[43m,\u001b[49m\u001b[43m \u001b[49m\u001b[43mioargs\u001b[49m\u001b[38;5;241;43m.\u001b[39;49m\u001b[43mmode\u001b[49m\u001b[43m)\u001b[49m\n\u001b[0;32m    883\u001b[0m     handles\u001b[38;5;241m.\u001b[39mappend(handle)\n\u001b[0;32m    885\u001b[0m \u001b[38;5;66;03m# Convert BytesIO or file objects passed with an encoding\u001b[39;00m\n",
      "\u001b[1;31mFileNotFoundError\u001b[0m: [Errno 2] No such file or directory: 'PBCD_J.XPT'"
     ]
    }
   ],
   "source": [
    "import pandas as pd\n",
    "import warnings \n",
    "\n",
    "%matplotlib inline\n",
    "import matplotlib.pyplot as plt\n",
    "from pathlib import Path\n",
    "import pandas as pd\n",
    "import scipy.stats as stats\n",
    "import numpy as np\n",
    "import seaborn as sns\n",
    "\n",
    "mag = pd.read_sas(\"PBCD_J.XPT\")\n",
    "\n",
    "print(mag.head())"
   ]
  },
  {
   "cell_type": "code",
   "execution_count": 3,
   "id": "fa34758a-fb1d-4b9e-8b61-0d55942e635c",
   "metadata": {},
   "outputs": [
    {
     "ename": "FileNotFoundError",
     "evalue": "[Errno 2] No such file or directory: 'Downloads/DPQ_J.XPT'",
     "output_type": "error",
     "traceback": [
      "\u001b[1;31m---------------------------------------------------------------------------\u001b[0m",
      "\u001b[1;31mFileNotFoundError\u001b[0m                         Traceback (most recent call last)",
      "Cell \u001b[1;32mIn[3], line 1\u001b[0m\n\u001b[1;32m----> 1\u001b[0m depression \u001b[38;5;241m=\u001b[39m \u001b[43mpd\u001b[49m\u001b[38;5;241;43m.\u001b[39;49m\u001b[43mread_sas\u001b[49m\u001b[43m(\u001b[49m\u001b[38;5;124;43m\"\u001b[39;49m\u001b[38;5;124;43mDownloads/DPQ_J.XPT\u001b[39;49m\u001b[38;5;124;43m\"\u001b[39;49m\u001b[43m)\u001b[49m\n\u001b[0;32m      2\u001b[0m \u001b[38;5;28mprint\u001b[39m(depression\u001b[38;5;241m.\u001b[39mhead())\n",
      "File \u001b[1;32m~\\anaconda3\\envs\\dev\\lib\\site-packages\\pandas\\io\\sas\\sasreader.py:154\u001b[0m, in \u001b[0;36mread_sas\u001b[1;34m(filepath_or_buffer, format, index, encoding, chunksize, iterator, compression)\u001b[0m\n\u001b[0;32m    151\u001b[0m \u001b[38;5;28;01mif\u001b[39;00m \u001b[38;5;28mformat\u001b[39m\u001b[38;5;241m.\u001b[39mlower() \u001b[38;5;241m==\u001b[39m \u001b[38;5;124m\"\u001b[39m\u001b[38;5;124mxport\u001b[39m\u001b[38;5;124m\"\u001b[39m:\n\u001b[0;32m    152\u001b[0m     \u001b[38;5;28;01mfrom\u001b[39;00m \u001b[38;5;21;01mpandas\u001b[39;00m\u001b[38;5;21;01m.\u001b[39;00m\u001b[38;5;21;01mio\u001b[39;00m\u001b[38;5;21;01m.\u001b[39;00m\u001b[38;5;21;01msas\u001b[39;00m\u001b[38;5;21;01m.\u001b[39;00m\u001b[38;5;21;01msas_xport\u001b[39;00m \u001b[38;5;28;01mimport\u001b[39;00m XportReader\n\u001b[1;32m--> 154\u001b[0m     reader \u001b[38;5;241m=\u001b[39m \u001b[43mXportReader\u001b[49m\u001b[43m(\u001b[49m\n\u001b[0;32m    155\u001b[0m \u001b[43m        \u001b[49m\u001b[43mfilepath_or_buffer\u001b[49m\u001b[43m,\u001b[49m\n\u001b[0;32m    156\u001b[0m \u001b[43m        \u001b[49m\u001b[43mindex\u001b[49m\u001b[38;5;241;43m=\u001b[39;49m\u001b[43mindex\u001b[49m\u001b[43m,\u001b[49m\n\u001b[0;32m    157\u001b[0m \u001b[43m        \u001b[49m\u001b[43mencoding\u001b[49m\u001b[38;5;241;43m=\u001b[39;49m\u001b[43mencoding\u001b[49m\u001b[43m,\u001b[49m\n\u001b[0;32m    158\u001b[0m \u001b[43m        \u001b[49m\u001b[43mchunksize\u001b[49m\u001b[38;5;241;43m=\u001b[39;49m\u001b[43mchunksize\u001b[49m\u001b[43m,\u001b[49m\n\u001b[0;32m    159\u001b[0m \u001b[43m        \u001b[49m\u001b[43mcompression\u001b[49m\u001b[38;5;241;43m=\u001b[39;49m\u001b[43mcompression\u001b[49m\u001b[43m,\u001b[49m\n\u001b[0;32m    160\u001b[0m \u001b[43m    \u001b[49m\u001b[43m)\u001b[49m\n\u001b[0;32m    161\u001b[0m \u001b[38;5;28;01melif\u001b[39;00m \u001b[38;5;28mformat\u001b[39m\u001b[38;5;241m.\u001b[39mlower() \u001b[38;5;241m==\u001b[39m \u001b[38;5;124m\"\u001b[39m\u001b[38;5;124msas7bdat\u001b[39m\u001b[38;5;124m\"\u001b[39m:\n\u001b[0;32m    162\u001b[0m     \u001b[38;5;28;01mfrom\u001b[39;00m \u001b[38;5;21;01mpandas\u001b[39;00m\u001b[38;5;21;01m.\u001b[39;00m\u001b[38;5;21;01mio\u001b[39;00m\u001b[38;5;21;01m.\u001b[39;00m\u001b[38;5;21;01msas\u001b[39;00m\u001b[38;5;21;01m.\u001b[39;00m\u001b[38;5;21;01msas7bdat\u001b[39;00m \u001b[38;5;28;01mimport\u001b[39;00m SAS7BDATReader\n",
      "File \u001b[1;32m~\\anaconda3\\envs\\dev\\lib\\site-packages\\pandas\\io\\sas\\sas_xport.py:270\u001b[0m, in \u001b[0;36mXportReader.__init__\u001b[1;34m(self, filepath_or_buffer, index, encoding, chunksize, compression)\u001b[0m\n\u001b[0;32m    267\u001b[0m \u001b[38;5;28mself\u001b[39m\u001b[38;5;241m.\u001b[39m_index \u001b[38;5;241m=\u001b[39m index\n\u001b[0;32m    268\u001b[0m \u001b[38;5;28mself\u001b[39m\u001b[38;5;241m.\u001b[39m_chunksize \u001b[38;5;241m=\u001b[39m chunksize\n\u001b[1;32m--> 270\u001b[0m \u001b[38;5;28mself\u001b[39m\u001b[38;5;241m.\u001b[39mhandles \u001b[38;5;241m=\u001b[39m \u001b[43mget_handle\u001b[49m\u001b[43m(\u001b[49m\n\u001b[0;32m    271\u001b[0m \u001b[43m    \u001b[49m\u001b[43mfilepath_or_buffer\u001b[49m\u001b[43m,\u001b[49m\n\u001b[0;32m    272\u001b[0m \u001b[43m    \u001b[49m\u001b[38;5;124;43m\"\u001b[39;49m\u001b[38;5;124;43mrb\u001b[39;49m\u001b[38;5;124;43m\"\u001b[39;49m\u001b[43m,\u001b[49m\n\u001b[0;32m    273\u001b[0m \u001b[43m    \u001b[49m\u001b[43mencoding\u001b[49m\u001b[38;5;241;43m=\u001b[39;49m\u001b[43mencoding\u001b[49m\u001b[43m,\u001b[49m\n\u001b[0;32m    274\u001b[0m \u001b[43m    \u001b[49m\u001b[43mis_text\u001b[49m\u001b[38;5;241;43m=\u001b[39;49m\u001b[38;5;28;43;01mFalse\u001b[39;49;00m\u001b[43m,\u001b[49m\n\u001b[0;32m    275\u001b[0m \u001b[43m    \u001b[49m\u001b[43mcompression\u001b[49m\u001b[38;5;241;43m=\u001b[39;49m\u001b[43mcompression\u001b[49m\u001b[43m,\u001b[49m\n\u001b[0;32m    276\u001b[0m \u001b[43m\u001b[49m\u001b[43m)\u001b[49m\n\u001b[0;32m    277\u001b[0m \u001b[38;5;28mself\u001b[39m\u001b[38;5;241m.\u001b[39mfilepath_or_buffer \u001b[38;5;241m=\u001b[39m \u001b[38;5;28mself\u001b[39m\u001b[38;5;241m.\u001b[39mhandles\u001b[38;5;241m.\u001b[39mhandle\n\u001b[0;32m    279\u001b[0m \u001b[38;5;28;01mtry\u001b[39;00m:\n",
      "File \u001b[1;32m~\\anaconda3\\envs\\dev\\lib\\site-packages\\pandas\\io\\common.py:882\u001b[0m, in \u001b[0;36mget_handle\u001b[1;34m(path_or_buf, mode, encoding, compression, memory_map, is_text, errors, storage_options)\u001b[0m\n\u001b[0;32m    873\u001b[0m         handle \u001b[38;5;241m=\u001b[39m \u001b[38;5;28mopen\u001b[39m(\n\u001b[0;32m    874\u001b[0m             handle,\n\u001b[0;32m    875\u001b[0m             ioargs\u001b[38;5;241m.\u001b[39mmode,\n\u001b[1;32m   (...)\u001b[0m\n\u001b[0;32m    878\u001b[0m             newline\u001b[38;5;241m=\u001b[39m\u001b[38;5;124m\"\u001b[39m\u001b[38;5;124m\"\u001b[39m,\n\u001b[0;32m    879\u001b[0m         )\n\u001b[0;32m    880\u001b[0m     \u001b[38;5;28;01melse\u001b[39;00m:\n\u001b[0;32m    881\u001b[0m         \u001b[38;5;66;03m# Binary mode\u001b[39;00m\n\u001b[1;32m--> 882\u001b[0m         handle \u001b[38;5;241m=\u001b[39m \u001b[38;5;28;43mopen\u001b[39;49m\u001b[43m(\u001b[49m\u001b[43mhandle\u001b[49m\u001b[43m,\u001b[49m\u001b[43m \u001b[49m\u001b[43mioargs\u001b[49m\u001b[38;5;241;43m.\u001b[39;49m\u001b[43mmode\u001b[49m\u001b[43m)\u001b[49m\n\u001b[0;32m    883\u001b[0m     handles\u001b[38;5;241m.\u001b[39mappend(handle)\n\u001b[0;32m    885\u001b[0m \u001b[38;5;66;03m# Convert BytesIO or file objects passed with an encoding\u001b[39;00m\n",
      "\u001b[1;31mFileNotFoundError\u001b[0m: [Errno 2] No such file or directory: 'Downloads/DPQ_J.XPT'"
     ]
    }
   ],
   "source": [
    "depression = pd.read_sas(\"Downloads/DPQ_J.XPT\")\n",
    "print(depression.head())"
   ]
  },
  {
   "cell_type": "code",
   "execution_count": null,
   "id": "e519d7c6-5281-4c05-bd98-e4141490c3c3",
   "metadata": {},
   "outputs": [],
   "source": [
    "data_compare = pd.merge(mag, depression, how = \"inner\", on = \"SEQN\")\n",
    "data_compare.head()"
   ]
  },
  {
   "cell_type": "code",
   "execution_count": null,
   "id": "dc879ca5-fa6c-4373-aec2-bf83478edc4d",
   "metadata": {},
   "outputs": [],
   "source": [
    "row_count= len(data_compare)\n",
    "print(row_count)"
   ]
  },
  {
   "cell_type": "code",
   "execution_count": null,
   "id": "37a48181-a998-4049-8538-e0444b4eb871",
   "metadata": {},
   "outputs": [],
   "source": [
    "data_compare.info()"
   ]
  },
  {
   "cell_type": "code",
   "execution_count": null,
   "id": "6721cc90-df15-434c-961e-2068f88b22c9",
   "metadata": {},
   "outputs": [],
   "source": [
    "data_frame = pd.DataFrame({\"ID\": data_compare[\"SEQN\"], \n",
    "                           \"Lack of Interest\": data_compare[\"DPQ010\"],\n",
    "                           \"Feeling Depressed\": data_compare[\"DPQ020\"],\n",
    "                           \"Suicide Ideation\": data_compare[\"DPQ090\"],\n",
    "                           \"Affect on Daily Life\": data_compare[\"DPQ100\"],\n",
    "                           \"Blood Mercury (ug/L)\": data_compare[\"LBXTHG\"],\n",
    "                           \"Blood Manganese (ug/L)\": data_compare[\"LBXBMN\"]\n",
    "                            })\n",
    "data_frame.head()"
   ]
  },
  {
   "cell_type": "code",
   "execution_count": null,
   "id": "d12ef7ac-9ec0-4c72-b9dc-5d769b3725f0",
   "metadata": {},
   "outputs": [],
   "source": [
    "data_frame.dropna(inplace =True)\n",
    "print(data_frame)"
   ]
  },
  {
   "cell_type": "code",
   "execution_count": null,
   "id": "4b466022-e75b-408e-80e6-3007b09a7314",
   "metadata": {},
   "outputs": [],
   "source": [
    "# changed the values for the indicators to whole number integers so it is easier to compare\n",
    "# you can see what the values represent in the data table discription in the links provided\n",
    "# https://wwwn.cdc.gov/Nchs/Nhanes/2017-2018/DPQ_J.htm#DPQ100\n",
    "data_frame = data_frame.astype({\"Feeling Depressed\":int,\n",
    "                                \"Lack of Interest\": int,\n",
    "                                \"Suicide Ideation\": int,\n",
    "                                \"Affect on Daily Life\": int,\n",
    "                                \"Blood Manganese (ug/L)\": float,\n",
    "                                \"ID\": float,\n",
    "                                \"Blood Mercury (ug/L)\": float})\n",
    "data_frame.info()"
   ]
  },
  {
   "cell_type": "code",
   "execution_count": null,
   "id": "017bc7be-1696-439f-bea2-53656a30f771",
   "metadata": {},
   "outputs": [],
   "source": [
    "# the normal level of manganese in the blood is between 4-15 ug/L according to google\n",
    "data_frame.boxplot(\"Blood Manganese (ug/L)\", by= \"Feeling Depressed\", figsize= (20,20))"
   ]
  },
  {
   "cell_type": "code",
   "execution_count": null,
   "id": "0efe65fb-db54-4ac2-8fa7-42c8301638da",
   "metadata": {},
   "outputs": [],
   "source": [
    "level0 = data_frame[data_frame[\"Feeling Depressed\"]== 0][\"Blood Manganese (ug/L)\"]\n",
    "level1 = data_frame[data_frame[\"Feeling Depressed\"]== 1][\"Blood Manganese (ug/L)\"]\n",
    "level2 = data_frame[data_frame[\"Feeling Depressed\"]== 2][\"Blood Manganese (ug/L)\"]\n",
    "level3 = data_frame[data_frame[\"Feeling Depressed\"]== 3][\"Blood Manganese (ug/L)\"]\n",
    "level9 = data_frame[data_frame[\"Feeling Depressed\"]== 9][\"Blood Manganese (ug/L)\"]\n"
   ]
  },
  {
   "cell_type": "code",
   "execution_count": null,
   "id": "cb31a594-2da5-4a2b-a843-7b6665ddb682",
   "metadata": {},
   "outputs": [],
   "source": [
    "# using ANOVA because we are comparing more than 2 groups\n",
    "# since the p value is ~0.35 this means that there is no statistical difference between the variables compared\n",
    "stats.f_oneway(level0, level1, level2, level3, level9)"
   ]
  },
  {
   "cell_type": "code",
   "execution_count": null,
   "id": "0bdd7b92-4d87-401f-99d9-3f57dbbc579e",
   "metadata": {},
   "outputs": [],
   "source": [
    "import pandas as pd\n",
    "import numpy as np\n",
    "import matplotlib.pyplot as plt\n",
    "import seaborn as sns\n",
    "from scipy import stats\n",
    " \n",
    "# Assuming you have your data in a DataFrame called 'data_frame'\n",
    "# If not, you'll need to load your data first\n",
    " \n",
    "# Calculate the correlation coefficient\n",
    "correlation = data_frame['Blood Manganese (ug/L)'].corr(data_frame['Feeling Depressed'])\n",
    " \n",
    "# Perform Spearman correlation test\n",
    "spearman_corr, p_value = stats.spearmanr(data_frame['Blood Manganese (ug/L)'], data_frame['Feeling Depressed'])\n",
    " \n",
    "# Create a correlation matrix\n",
    "corr_matrix = data_frame[['Blood Manganese (ug/L)', 'Feeling Depressed']].corr()\n",
    " \n",
    "# Set up the matplotlib figure\n",
    "plt.figure(figsize=(10, 8))\n",
    " \n",
    "# Create a heatmap\n",
    "sns.heatmap(corr_matrix, annot=True, cmap='coolwarm', vmin=-1, vmax=1, center=0)\n",
    " \n",
    "# Set title\n",
    "plt.title('Correlation Heatmap: Blood Manganese vs Depression')\n",
    " \n",
    "# Show the plot\n",
    "plt.show()\n",
    " \n",
    "# Print Spearman correlation results\n",
    "print(f\"Spearman Correlation Coefficient: {spearman_corr:.4f}\")\n",
    "print(f\"P-value: {p_value:.4f}\")\n",
    " \n",
    "# Interpret the correlation\n",
    "def interpret_correlation(coeff):\n",
    "    if abs(coeff) > 0.7:\n",
    "        return \"Strong\"\n",
    "    elif abs(coeff) > 0.3:\n",
    "        return \"Moderate\"\n",
    "    else:\n",
    "        return \"Weak\"\n",
    " \n",
    "print(f\"Interpretation: {interpret_correlation(spearman_corr)} {'positive' if spearman_corr > 0 else 'negative'} correlation\")"
   ]
  },
  {
   "cell_type": "code",
   "execution_count": null,
   "id": "e95cd6a9-1353-4a58-8555-4d4dd8d986ba",
   "metadata": {},
   "outputs": [],
   "source": [
    "#almost the same as above\n",
    "\n",
    "import pandas as pd\n",
    "import numpy as np\n",
    "import matplotlib.pyplot as plt\n",
    "import seaborn as sns\n",
    "from scipy import stats\n",
    " \n",
    "# Assuming you have your data in a DataFrame called 'data_frame'\n",
    "# If not, you'll need to load your data first\n",
    "# For this example, we'll create a sample DataFrame\n",
    "\n",
    " \n",
    "# Calculate the Pearson correlation coefficient\n",
    "pearson_corr = data_frame['Blood Manganese (ug/L)'].corr(data_frame['Feeling Depressed'])\n",
    " \n",
    "# Perform Spearman correlation test\n",
    "spearman_corr, p_value = stats.spearmanr(data_frame['Blood Manganese (ug/L)'], data_frame['Feeling Depressed'])\n",
    " \n",
    "# Create a correlation matrix\n",
    "corr_matrix = data_frame[['Blood Manganese (ug/L)', 'Feeling Depressed']].corr()\n",
    " \n",
    "# Set up the matplotlib figure\n",
    "plt.figure(figsize=(10, 8))\n",
    " \n",
    "# Create a heatmap\n",
    "sns.heatmap(corr_matrix, annot=True, cmap='coolwarm', vmin=-1, vmax=1, center=0)\n",
    " \n",
    "# Set title\n",
    "plt.title('Correlation Heatmap: Blood Manganese vs Depression')\n",
    " \n",
    "# Show the plot\n",
    "plt.show()\n",
    " \n",
    "# Print correlation results\n",
    "print(f\"Pearson Correlation Coefficient: {pearson_corr:.4f}\")\n",
    "print(f\"Spearman Correlation Coefficient: {spearman_corr:.4f}\")\n",
    "print(f\"P-value: {p_value:.4f}\")\n",
    " \n",
    "# Interpret the correlation\n",
    "def interpret_correlation(coeff):\n",
    "    if abs(coeff) > 0.7:\n",
    "        return \"Strong\"\n",
    "    elif abs(coeff) > 0.3:\n",
    "        return \"Moderate\"\n",
    "    else:\n",
    "        return \"Weak\"\n",
    " \n",
    "print(f\"Interpretation: {interpret_correlation(spearman_corr)} {'positive' if spearman_corr > 0 else 'negative'} correlation\")"
   ]
  },
  {
   "cell_type": "code",
   "execution_count": null,
   "id": "5c193660-6b33-4781-96b0-ca19a045cb1b",
   "metadata": {},
   "outputs": [],
   "source": [
    "import pandas as pd\n",
    "import matplotlib.pyplot as plt\n",
    "import seaborn as sns\n",
    " \n",
    "# Assuming you have your data in a DataFrame called 'data_frame'\n",
    "# If not, you'll need to load your data first\n",
    "# For this example, we'll create a sample DataFrame\n",
    "\n",
    "# Create the figure and axis objects\n",
    "fig, ax = plt.subplots(figsize=(10, 6))\n",
    " \n",
    "# Create the scatter plot with regression line\n",
    "sns.regplot(x='Blood Manganese (ug/L)', y='Feeling Depressed', data=data_frame, ax=ax)\n",
    " \n",
    "# Customize the plot\n",
    "ax.set_title('Blood Manganese Levels vs Depression Severity', fontsize=16)\n",
    "ax.set_xlabel('Blood Manganese (ug/L)', fontsize=12)\n",
    "ax.set_ylabel('Depression Severity', fontsize=12)\n",
    " \n",
    "# Add a text box with correlation information\n",
    "correlation = data_frame['Blood Manganese (ug/L)'].corr(data_frame['Feeling Depressed'])\n",
    "ax.text(0.05, 0.95, f'Correlation: {correlation:.2f}', transform=ax.transAxes, \n",
    "        verticalalignment='top', bbox=dict(boxstyle='round', facecolor='white', alpha=0.7))\n",
    " \n",
    "# Adjust layout and display the plot\n",
    "plt.tight_layout()\n",
    "plt.show()"
   ]
  },
  {
   "cell_type": "code",
   "execution_count": null,
   "id": "62eee06f-45c1-4e41-a103-bd9e89fef3e4",
   "metadata": {},
   "outputs": [],
   "source": []
  },
  {
   "cell_type": "code",
   "execution_count": null,
   "id": "e9681f61-74cb-4845-b1cf-f734bdf77c88",
   "metadata": {},
   "outputs": [],
   "source": []
  },
  {
   "cell_type": "code",
   "execution_count": null,
   "id": "09c0c616-207c-4eae-8f38-ba1ed8294bfd",
   "metadata": {},
   "outputs": [],
   "source": []
  },
  {
   "cell_type": "code",
   "execution_count": null,
   "id": "917f1862-35b1-4e25-8e34-d5b873156a10",
   "metadata": {},
   "outputs": [],
   "source": []
  }
 ],
 "metadata": {
  "kernelspec": {
   "display_name": "Python 3 (ipykernel)",
   "language": "python",
   "name": "python3"
  },
  "language_info": {
   "codemirror_mode": {
    "name": "ipython",
    "version": 3
   },
   "file_extension": ".py",
   "mimetype": "text/x-python",
   "name": "python",
   "nbconvert_exporter": "python",
   "pygments_lexer": "ipython3",
   "version": "3.10.14"
  }
 },
 "nbformat": 4,
 "nbformat_minor": 5
}
