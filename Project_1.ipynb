{
 "cells": [
  {
   "cell_type": "code",
   "execution_count": 115,
   "id": "0a2d0164-d397-410b-be12-5be1aec6f823",
   "metadata": {},
   "outputs": [
    {
     "name": "stdout",
     "output_type": "stream",
     "text": [
      "      SEQN  LBXBPB  LBDBPBSI      LBDBPBLC  LBXBCD  LBDBCDSI      LBDBCDLC  \\\n",
      "0  93703.0     NaN       NaN           NaN     NaN       NaN           NaN   \n",
      "1  93704.0     NaN       NaN           NaN    0.07      0.62  1.000000e+00   \n",
      "2  93705.0    2.98      0.14  5.397605e-79    0.24      2.14  5.397605e-79   \n",
      "3  93706.0    0.74      0.04  5.397605e-79    0.21      1.87  5.397605e-79   \n",
      "4  93707.0    0.39      0.02  5.397605e-79    0.14      1.25  5.397605e-79   \n",
      "\n",
      "   LBXTHG  LBDTHGSI      LBDTHGLC  LBXBSE  LBDBSESI      LBDBSELC  LBXBMN  \\\n",
      "0     NaN       NaN           NaN     NaN       NaN           NaN     NaN   \n",
      "1    0.47      2.35  5.397605e-79  142.28      1.81  5.397605e-79    9.41   \n",
      "2    1.07      5.34  5.397605e-79  185.71      2.36  5.397605e-79    8.57   \n",
      "3   10.64     53.09  5.397605e-79  199.44      2.53  5.397605e-79   14.07   \n",
      "4    0.20      1.00  1.000000e+00  179.34      2.28  5.397605e-79   12.60   \n",
      "\n",
      "   LBDBMNSI      LBDBMNLC  \n",
      "0       NaN           NaN  \n",
      "1    171.28  5.397605e-79  \n",
      "2    155.99  5.397605e-79  \n",
      "3    256.10  5.397605e-79  \n",
      "4    229.35  5.397605e-79  \n"
     ]
    }
   ],
   "source": [
    "import pandas as pd\n",
    "import warnings \n",
    "\n",
    "%matplotlib inline\n",
    "import matplotlib.pyplot as plt\n",
    "from pathlib import Path\n",
    "import pandas as pd\n",
    "import scipy.stats as stats\n",
    "import numpy as np\n",
    "import seaborn as sns\n",
    "\n",
    "mag = pd.read_sas(\"Downloads/PBCD_J.XPT\")\n",
    "\n",
    "print(mag.head())"
   ]
  },
  {
   "cell_type": "code",
   "execution_count": 82,
   "id": "fa34758a-fb1d-4b9e-8b61-0d55942e635c",
   "metadata": {},
   "outputs": [
    {
     "name": "stdout",
     "output_type": "stream",
     "text": [
      "      SEQN        DPQ010        DPQ020        DPQ030        DPQ040  \\\n",
      "0  93705.0  5.397605e-79  5.397605e-79  5.397605e-79  5.397605e-79   \n",
      "1  93706.0  5.397605e-79  5.397605e-79  5.397605e-79  5.397605e-79   \n",
      "2  93708.0  5.397605e-79  5.397605e-79  5.397605e-79  5.397605e-79   \n",
      "3  93709.0           NaN           NaN           NaN           NaN   \n",
      "4  93711.0  1.000000e+00  5.397605e-79  1.000000e+00  5.397605e-79   \n",
      "\n",
      "         DPQ050        DPQ060        DPQ070        DPQ080        DPQ090  \\\n",
      "0  5.397605e-79  5.397605e-79  5.397605e-79  5.397605e-79  5.397605e-79   \n",
      "1  5.397605e-79  5.397605e-79  5.397605e-79  5.397605e-79  5.397605e-79   \n",
      "2  5.397605e-79  5.397605e-79  5.397605e-79  5.397605e-79  5.397605e-79   \n",
      "3           NaN           NaN           NaN           NaN           NaN   \n",
      "4  5.397605e-79  5.397605e-79  5.397605e-79  5.397605e-79  5.397605e-79   \n",
      "\n",
      "         DPQ100  \n",
      "0           NaN  \n",
      "1           NaN  \n",
      "2           NaN  \n",
      "3           NaN  \n",
      "4  5.397605e-79  \n"
     ]
    }
   ],
   "source": [
    "depression = pd.read_sas(\"Downloads/DPQ_J.XPT\")\n",
    "print(depression.head())"
   ]
  },
  {
   "cell_type": "code",
   "execution_count": 83,
   "id": "e519d7c6-5281-4c05-bd98-e4141490c3c3",
   "metadata": {},
   "outputs": [
    {
     "data": {
      "text/html": [
       "<div>\n",
       "<style scoped>\n",
       "    .dataframe tbody tr th:only-of-type {\n",
       "        vertical-align: middle;\n",
       "    }\n",
       "\n",
       "    .dataframe tbody tr th {\n",
       "        vertical-align: top;\n",
       "    }\n",
       "\n",
       "    .dataframe thead th {\n",
       "        text-align: right;\n",
       "    }\n",
       "</style>\n",
       "<table border=\"1\" class=\"dataframe\">\n",
       "  <thead>\n",
       "    <tr style=\"text-align: right;\">\n",
       "      <th></th>\n",
       "      <th>SEQN</th>\n",
       "      <th>LBXBPB</th>\n",
       "      <th>LBDBPBSI</th>\n",
       "      <th>LBDBPBLC</th>\n",
       "      <th>LBXBCD</th>\n",
       "      <th>LBDBCDSI</th>\n",
       "      <th>LBDBCDLC</th>\n",
       "      <th>LBXTHG</th>\n",
       "      <th>LBDTHGSI</th>\n",
       "      <th>LBDTHGLC</th>\n",
       "      <th>...</th>\n",
       "      <th>DPQ010</th>\n",
       "      <th>DPQ020</th>\n",
       "      <th>DPQ030</th>\n",
       "      <th>DPQ040</th>\n",
       "      <th>DPQ050</th>\n",
       "      <th>DPQ060</th>\n",
       "      <th>DPQ070</th>\n",
       "      <th>DPQ080</th>\n",
       "      <th>DPQ090</th>\n",
       "      <th>DPQ100</th>\n",
       "    </tr>\n",
       "  </thead>\n",
       "  <tbody>\n",
       "    <tr>\n",
       "      <th>0</th>\n",
       "      <td>93705.0</td>\n",
       "      <td>2.98</td>\n",
       "      <td>0.14</td>\n",
       "      <td>5.397605e-79</td>\n",
       "      <td>0.24</td>\n",
       "      <td>2.14</td>\n",
       "      <td>5.397605e-79</td>\n",
       "      <td>1.07</td>\n",
       "      <td>5.34</td>\n",
       "      <td>5.397605e-79</td>\n",
       "      <td>...</td>\n",
       "      <td>5.397605e-79</td>\n",
       "      <td>5.397605e-79</td>\n",
       "      <td>5.397605e-79</td>\n",
       "      <td>5.397605e-79</td>\n",
       "      <td>5.397605e-79</td>\n",
       "      <td>5.397605e-79</td>\n",
       "      <td>5.397605e-79</td>\n",
       "      <td>5.397605e-79</td>\n",
       "      <td>5.397605e-79</td>\n",
       "      <td>NaN</td>\n",
       "    </tr>\n",
       "    <tr>\n",
       "      <th>1</th>\n",
       "      <td>93706.0</td>\n",
       "      <td>0.74</td>\n",
       "      <td>0.04</td>\n",
       "      <td>5.397605e-79</td>\n",
       "      <td>0.21</td>\n",
       "      <td>1.87</td>\n",
       "      <td>5.397605e-79</td>\n",
       "      <td>10.64</td>\n",
       "      <td>53.09</td>\n",
       "      <td>5.397605e-79</td>\n",
       "      <td>...</td>\n",
       "      <td>5.397605e-79</td>\n",
       "      <td>5.397605e-79</td>\n",
       "      <td>5.397605e-79</td>\n",
       "      <td>5.397605e-79</td>\n",
       "      <td>5.397605e-79</td>\n",
       "      <td>5.397605e-79</td>\n",
       "      <td>5.397605e-79</td>\n",
       "      <td>5.397605e-79</td>\n",
       "      <td>5.397605e-79</td>\n",
       "      <td>NaN</td>\n",
       "    </tr>\n",
       "    <tr>\n",
       "      <th>2</th>\n",
       "      <td>93708.0</td>\n",
       "      <td>1.53</td>\n",
       "      <td>0.07</td>\n",
       "      <td>5.397605e-79</td>\n",
       "      <td>0.73</td>\n",
       "      <td>6.49</td>\n",
       "      <td>5.397605e-79</td>\n",
       "      <td>15.23</td>\n",
       "      <td>76.00</td>\n",
       "      <td>5.397605e-79</td>\n",
       "      <td>...</td>\n",
       "      <td>5.397605e-79</td>\n",
       "      <td>5.397605e-79</td>\n",
       "      <td>5.397605e-79</td>\n",
       "      <td>5.397605e-79</td>\n",
       "      <td>5.397605e-79</td>\n",
       "      <td>5.397605e-79</td>\n",
       "      <td>5.397605e-79</td>\n",
       "      <td>5.397605e-79</td>\n",
       "      <td>5.397605e-79</td>\n",
       "      <td>NaN</td>\n",
       "    </tr>\n",
       "    <tr>\n",
       "      <th>3</th>\n",
       "      <td>93709.0</td>\n",
       "      <td>1.31</td>\n",
       "      <td>0.06</td>\n",
       "      <td>5.397605e-79</td>\n",
       "      <td>1.08</td>\n",
       "      <td>9.61</td>\n",
       "      <td>5.397605e-79</td>\n",
       "      <td>0.41</td>\n",
       "      <td>2.05</td>\n",
       "      <td>5.397605e-79</td>\n",
       "      <td>...</td>\n",
       "      <td>NaN</td>\n",
       "      <td>NaN</td>\n",
       "      <td>NaN</td>\n",
       "      <td>NaN</td>\n",
       "      <td>NaN</td>\n",
       "      <td>NaN</td>\n",
       "      <td>NaN</td>\n",
       "      <td>NaN</td>\n",
       "      <td>NaN</td>\n",
       "      <td>NaN</td>\n",
       "    </tr>\n",
       "    <tr>\n",
       "      <th>4</th>\n",
       "      <td>93711.0</td>\n",
       "      <td>2.15</td>\n",
       "      <td>0.10</td>\n",
       "      <td>5.397605e-79</td>\n",
       "      <td>0.38</td>\n",
       "      <td>3.38</td>\n",
       "      <td>5.397605e-79</td>\n",
       "      <td>0.20</td>\n",
       "      <td>1.00</td>\n",
       "      <td>1.000000e+00</td>\n",
       "      <td>...</td>\n",
       "      <td>1.000000e+00</td>\n",
       "      <td>5.397605e-79</td>\n",
       "      <td>1.000000e+00</td>\n",
       "      <td>5.397605e-79</td>\n",
       "      <td>5.397605e-79</td>\n",
       "      <td>5.397605e-79</td>\n",
       "      <td>5.397605e-79</td>\n",
       "      <td>5.397605e-79</td>\n",
       "      <td>5.397605e-79</td>\n",
       "      <td>5.397605e-79</td>\n",
       "    </tr>\n",
       "  </tbody>\n",
       "</table>\n",
       "<p>5 rows × 26 columns</p>\n",
       "</div>"
      ],
      "text/plain": [
       "      SEQN  LBXBPB  LBDBPBSI      LBDBPBLC  LBXBCD  LBDBCDSI      LBDBCDLC  \\\n",
       "0  93705.0    2.98      0.14  5.397605e-79    0.24      2.14  5.397605e-79   \n",
       "1  93706.0    0.74      0.04  5.397605e-79    0.21      1.87  5.397605e-79   \n",
       "2  93708.0    1.53      0.07  5.397605e-79    0.73      6.49  5.397605e-79   \n",
       "3  93709.0    1.31      0.06  5.397605e-79    1.08      9.61  5.397605e-79   \n",
       "4  93711.0    2.15      0.10  5.397605e-79    0.38      3.38  5.397605e-79   \n",
       "\n",
       "   LBXTHG  LBDTHGSI      LBDTHGLC  ...        DPQ010        DPQ020  \\\n",
       "0    1.07      5.34  5.397605e-79  ...  5.397605e-79  5.397605e-79   \n",
       "1   10.64     53.09  5.397605e-79  ...  5.397605e-79  5.397605e-79   \n",
       "2   15.23     76.00  5.397605e-79  ...  5.397605e-79  5.397605e-79   \n",
       "3    0.41      2.05  5.397605e-79  ...           NaN           NaN   \n",
       "4    0.20      1.00  1.000000e+00  ...  1.000000e+00  5.397605e-79   \n",
       "\n",
       "         DPQ030        DPQ040        DPQ050        DPQ060        DPQ070  \\\n",
       "0  5.397605e-79  5.397605e-79  5.397605e-79  5.397605e-79  5.397605e-79   \n",
       "1  5.397605e-79  5.397605e-79  5.397605e-79  5.397605e-79  5.397605e-79   \n",
       "2  5.397605e-79  5.397605e-79  5.397605e-79  5.397605e-79  5.397605e-79   \n",
       "3           NaN           NaN           NaN           NaN           NaN   \n",
       "4  1.000000e+00  5.397605e-79  5.397605e-79  5.397605e-79  5.397605e-79   \n",
       "\n",
       "         DPQ080        DPQ090        DPQ100  \n",
       "0  5.397605e-79  5.397605e-79           NaN  \n",
       "1  5.397605e-79  5.397605e-79           NaN  \n",
       "2  5.397605e-79  5.397605e-79           NaN  \n",
       "3           NaN           NaN           NaN  \n",
       "4  5.397605e-79  5.397605e-79  5.397605e-79  \n",
       "\n",
       "[5 rows x 26 columns]"
      ]
     },
     "execution_count": 83,
     "metadata": {},
     "output_type": "execute_result"
    }
   ],
   "source": [
    "data_compare = pd.merge(mag, depression, how = \"inner\", on = \"SEQN\")\n",
    "data_compare.head()"
   ]
  },
  {
   "cell_type": "code",
   "execution_count": 86,
   "id": "dc879ca5-fa6c-4373-aec2-bf83478edc4d",
   "metadata": {},
   "outputs": [
    {
     "name": "stdout",
     "output_type": "stream",
     "text": [
      "5533\n"
     ]
    }
   ],
   "source": [
    "row_count= len(data_compare)\n",
    "print(row_count)"
   ]
  },
  {
   "cell_type": "code",
   "execution_count": 87,
   "id": "37a48181-a998-4049-8538-e0444b4eb871",
   "metadata": {},
   "outputs": [
    {
     "name": "stdout",
     "output_type": "stream",
     "text": [
      "<class 'pandas.core.frame.DataFrame'>\n",
      "RangeIndex: 5533 entries, 0 to 5532\n",
      "Data columns (total 26 columns):\n",
      " #   Column    Non-Null Count  Dtype  \n",
      "---  ------    --------------  -----  \n",
      " 0   SEQN      5533 non-null   float64\n",
      " 1   LBXBPB    5264 non-null   float64\n",
      " 2   LBDBPBSI  5264 non-null   float64\n",
      " 3   LBDBPBLC  5264 non-null   float64\n",
      " 4   LBXBCD    5264 non-null   float64\n",
      " 5   LBDBCDSI  5264 non-null   float64\n",
      " 6   LBDBCDLC  5264 non-null   float64\n",
      " 7   LBXTHG    5264 non-null   float64\n",
      " 8   LBDTHGSI  5264 non-null   float64\n",
      " 9   LBDTHGLC  5264 non-null   float64\n",
      " 10  LBXBSE    5264 non-null   float64\n",
      " 11  LBDBSESI  5264 non-null   float64\n",
      " 12  LBDBSELC  5264 non-null   float64\n",
      " 13  LBXBMN    5264 non-null   float64\n",
      " 14  LBDBMNSI  5264 non-null   float64\n",
      " 15  LBDBMNLC  5264 non-null   float64\n",
      " 16  DPQ010    5094 non-null   float64\n",
      " 17  DPQ020    5093 non-null   float64\n",
      " 18  DPQ030    5093 non-null   float64\n",
      " 19  DPQ040    5092 non-null   float64\n",
      " 20  DPQ050    5092 non-null   float64\n",
      " 21  DPQ060    5091 non-null   float64\n",
      " 22  DPQ070    5091 non-null   float64\n",
      " 23  DPQ080    5091 non-null   float64\n",
      " 24  DPQ090    5090 non-null   float64\n",
      " 25  DPQ100    3362 non-null   float64\n",
      "dtypes: float64(26)\n",
      "memory usage: 1.1 MB\n"
     ]
    }
   ],
   "source": [
    "data_compare.info()"
   ]
  },
  {
   "cell_type": "code",
   "execution_count": 88,
   "id": "6721cc90-df15-434c-961e-2068f88b22c9",
   "metadata": {},
   "outputs": [
    {
     "data": {
      "text/html": [
       "<div>\n",
       "<style scoped>\n",
       "    .dataframe tbody tr th:only-of-type {\n",
       "        vertical-align: middle;\n",
       "    }\n",
       "\n",
       "    .dataframe tbody tr th {\n",
       "        vertical-align: top;\n",
       "    }\n",
       "\n",
       "    .dataframe thead th {\n",
       "        text-align: right;\n",
       "    }\n",
       "</style>\n",
       "<table border=\"1\" class=\"dataframe\">\n",
       "  <thead>\n",
       "    <tr style=\"text-align: right;\">\n",
       "      <th></th>\n",
       "      <th>ID</th>\n",
       "      <th>Lack of Interest</th>\n",
       "      <th>Feeling Depressed</th>\n",
       "      <th>Suicide Ideation</th>\n",
       "      <th>Affect on Daily Life</th>\n",
       "      <th>Blood Mercury (ug/L)</th>\n",
       "      <th>Blood Manganese (ug/L)</th>\n",
       "    </tr>\n",
       "  </thead>\n",
       "  <tbody>\n",
       "    <tr>\n",
       "      <th>0</th>\n",
       "      <td>93705.0</td>\n",
       "      <td>5.397605e-79</td>\n",
       "      <td>5.397605e-79</td>\n",
       "      <td>5.397605e-79</td>\n",
       "      <td>NaN</td>\n",
       "      <td>1.07</td>\n",
       "      <td>8.57</td>\n",
       "    </tr>\n",
       "    <tr>\n",
       "      <th>1</th>\n",
       "      <td>93706.0</td>\n",
       "      <td>5.397605e-79</td>\n",
       "      <td>5.397605e-79</td>\n",
       "      <td>5.397605e-79</td>\n",
       "      <td>NaN</td>\n",
       "      <td>10.64</td>\n",
       "      <td>14.07</td>\n",
       "    </tr>\n",
       "    <tr>\n",
       "      <th>2</th>\n",
       "      <td>93708.0</td>\n",
       "      <td>5.397605e-79</td>\n",
       "      <td>5.397605e-79</td>\n",
       "      <td>5.397605e-79</td>\n",
       "      <td>NaN</td>\n",
       "      <td>15.23</td>\n",
       "      <td>15.09</td>\n",
       "    </tr>\n",
       "    <tr>\n",
       "      <th>3</th>\n",
       "      <td>93709.0</td>\n",
       "      <td>NaN</td>\n",
       "      <td>NaN</td>\n",
       "      <td>NaN</td>\n",
       "      <td>NaN</td>\n",
       "      <td>0.41</td>\n",
       "      <td>11.88</td>\n",
       "    </tr>\n",
       "    <tr>\n",
       "      <th>4</th>\n",
       "      <td>93711.0</td>\n",
       "      <td>1.000000e+00</td>\n",
       "      <td>5.397605e-79</td>\n",
       "      <td>5.397605e-79</td>\n",
       "      <td>5.397605e-79</td>\n",
       "      <td>0.20</td>\n",
       "      <td>6.55</td>\n",
       "    </tr>\n",
       "  </tbody>\n",
       "</table>\n",
       "</div>"
      ],
      "text/plain": [
       "        ID  Lack of Interest  Feeling Depressed  Suicide Ideation  \\\n",
       "0  93705.0      5.397605e-79       5.397605e-79      5.397605e-79   \n",
       "1  93706.0      5.397605e-79       5.397605e-79      5.397605e-79   \n",
       "2  93708.0      5.397605e-79       5.397605e-79      5.397605e-79   \n",
       "3  93709.0               NaN                NaN               NaN   \n",
       "4  93711.0      1.000000e+00       5.397605e-79      5.397605e-79   \n",
       "\n",
       "   Affect on Daily Life  Blood Mercury (ug/L)  Blood Manganese (ug/L)  \n",
       "0                   NaN                  1.07                    8.57  \n",
       "1                   NaN                 10.64                   14.07  \n",
       "2                   NaN                 15.23                   15.09  \n",
       "3                   NaN                  0.41                   11.88  \n",
       "4          5.397605e-79                  0.20                    6.55  "
      ]
     },
     "execution_count": 88,
     "metadata": {},
     "output_type": "execute_result"
    }
   ],
   "source": [
    "data_frame = pd.DataFrame({\"ID\": data_compare[\"SEQN\"], \n",
    "                           \"Lack of Interest\": data_compare[\"DPQ010\"],\n",
    "                           \"Feeling Depressed\": data_compare[\"DPQ020\"],\n",
    "                           \"Suicide Ideation\": data_compare[\"DPQ090\"],\n",
    "                           \"Affect on Daily Life\": data_compare[\"DPQ100\"],\n",
    "                           \"Blood Mercury (ug/L)\": data_compare[\"LBXTHG\"],\n",
    "                           \"Blood Manganese (ug/L)\": data_compare[\"LBXBMN\"]\n",
    "                            })\n",
    "data_frame.head()"
   ]
  },
  {
   "cell_type": "code",
   "execution_count": 89,
   "id": "d12ef7ac-9ec0-4c72-b9dc-5d769b3725f0",
   "metadata": {},
   "outputs": [
    {
     "name": "stdout",
     "output_type": "stream",
     "text": [
      "            ID  Lack of Interest  Feeling Depressed  Suicide Ideation  \\\n",
      "4      93711.0      1.000000e+00       5.397605e-79      5.397605e-79   \n",
      "5      93712.0      5.397605e-79       5.397605e-79      5.397605e-79   \n",
      "6      93713.0      1.000000e+00       1.000000e+00      5.397605e-79   \n",
      "7      93714.0      1.000000e+00       5.397605e-79      5.397605e-79   \n",
      "8      93715.0      5.397605e-79       5.397605e-79      5.397605e-79   \n",
      "...        ...               ...                ...               ...   \n",
      "5521  102934.0      5.397605e-79       5.397605e-79      5.397605e-79   \n",
      "5523  102943.0      5.397605e-79       5.397605e-79      5.397605e-79   \n",
      "5526  102947.0      5.397605e-79       5.397605e-79      5.397605e-79   \n",
      "5530  102953.0      1.000000e+00       1.000000e+00      5.397605e-79   \n",
      "5532  102956.0      1.000000e+00       1.000000e+00      5.397605e-79   \n",
      "\n",
      "      Affect on Daily Life  Blood Mercury (ug/L)  Blood Manganese (ug/L)  \n",
      "4             5.397605e-79                  0.20                    6.55  \n",
      "5             5.397605e-79                  0.53                    8.73  \n",
      "6             1.000000e+00                  0.20                    9.67  \n",
      "7             5.397605e-79                  1.24                    7.85  \n",
      "8             5.397605e-79                  2.13                    8.50  \n",
      "...                    ...                   ...                     ...  \n",
      "5521          5.397605e-79                  0.20                    7.14  \n",
      "5523          5.397605e-79                  5.33                   12.54  \n",
      "5526          5.397605e-79                  1.83                    3.37  \n",
      "5530          1.000000e+00                  0.62                    8.34  \n",
      "5532          1.000000e+00                  0.83                    6.14  \n",
      "\n",
      "[3234 rows x 7 columns]\n"
     ]
    }
   ],
   "source": [
    "data_frame.dropna(inplace =True)\n",
    "print(data_frame)"
   ]
  },
  {
   "cell_type": "code",
   "execution_count": 90,
   "id": "4b466022-e75b-408e-80e6-3007b09a7314",
   "metadata": {},
   "outputs": [
    {
     "name": "stdout",
     "output_type": "stream",
     "text": [
      "<class 'pandas.core.frame.DataFrame'>\n",
      "Index: 3234 entries, 4 to 5532\n",
      "Data columns (total 7 columns):\n",
      " #   Column                  Non-Null Count  Dtype  \n",
      "---  ------                  --------------  -----  \n",
      " 0   ID                      3234 non-null   float64\n",
      " 1   Lack of Interest        3234 non-null   int32  \n",
      " 2   Feeling Depressed       3234 non-null   int32  \n",
      " 3   Suicide Ideation        3234 non-null   int32  \n",
      " 4   Affect on Daily Life    3234 non-null   int32  \n",
      " 5   Blood Mercury (ug/L)    3234 non-null   float64\n",
      " 6   Blood Manganese (ug/L)  3234 non-null   float64\n",
      "dtypes: float64(3), int32(4)\n",
      "memory usage: 151.6 KB\n"
     ]
    }
   ],
   "source": [
    "# changed the values for the indicators to whole number integers so it is easier to compare\n",
    "# you can see what the values represent in the data table discription in the links provided\n",
    "# https://wwwn.cdc.gov/Nchs/Nhanes/2017-2018/DPQ_J.htm#DPQ100\n",
    "data_frame = data_frame.astype({\"Feeling Depressed\":int,\n",
    "                                \"Lack of Interest\": int,\n",
    "                                \"Suicide Ideation\": int,\n",
    "                                \"Affect on Daily Life\": int,\n",
    "                                \"Blood Manganese (ug/L)\": float,\n",
    "                                \"ID\": float,\n",
    "                                \"Blood Manganese (ug/L)\": float})\n",
    "data_frame.info()"
   ]
  },
  {
   "cell_type": "code",
   "execution_count": 91,
   "id": "017bc7be-1696-439f-bea2-53656a30f771",
   "metadata": {},
   "outputs": [
    {
     "data": {
      "text/plain": [
       "<Axes: title={'center': 'Blood Manganese (ug/L)'}, xlabel='Feeling Depressed'>"
      ]
     },
     "execution_count": 91,
     "metadata": {},
     "output_type": "execute_result"
    },
    {
     "data": {
      "image/png": "[encoded data removed]",
      "text/plain": [
       "<Figure size 2000x2000 with 1 Axes>"
      ]
     },
     "metadata": {},
     "output_type": "display_data"
    }
   ],
   "source": [
    "# the normal level of manganese in the blood is between 4-15 ug/L according to google\n",
    "data_frame.boxplot(\"Blood Manganese (ug/L)\", by= \"Feeling Depressed\", figsize= (20,20))"
   ]
  },
  {
   "cell_type": "code",
   "execution_count": 106,
   "id": "0efe65fb-db54-4ac2-8fa7-42c8301638da",
   "metadata": {},
   "outputs": [],
   "source": [
    "level0 = data_frame[data_frame[\"Feeling Depressed\"]== 0][\"Blood Manganese (ug/L)\"]\n",
    "level1 = data_frame[data_frame[\"Feeling Depressed\"]== 1][\"Blood Manganese (ug/L)\"]\n",
    "level2 = data_frame[data_frame[\"Feeling Depressed\"]== 2][\"Blood Manganese (ug/L)\"]\n",
    "level3 = data_frame[data_frame[\"Feeling Depressed\"]== 3][\"Blood Manganese (ug/L)\"]\n",
    "level9 = data_frame[data_frame[\"Feeling Depressed\"]== 9][\"Blood Manganese (ug/L)\"]\n"
   ]
  },
  {
   "cell_type": "code",
   "execution_count": 93,
   "id": "cb31a594-2da5-4a2b-a843-7b6665ddb682",
   "metadata": {},
   "outputs": [
    {
     "data": {
      "text/plain": [
       "F_onewayResult(statistic=1.0985608518323224, pvalue=0.35547103704603705)"
      ]
     },
     "execution_count": 93,
     "metadata": {},
     "output_type": "execute_result"
    }
   ],
   "source": [
    "# using ANOVA because we are comparing more than 2 groups\n",
    "# since the p value is ~0.35 this means that there is no statistical difference between the variables compared\n",
    "stats.f_oneway(level0, level1, level2, level3, level9)"
   ]
  },
  {
   "cell_type": "code",
   "execution_count": 111,
   "id": "0bdd7b92-4d87-401f-99d9-3f57dbbc579e",
   "metadata": {},
   "outputs": [
    {
     "ename": "ValueError",
     "evalue": "'label' must be of length 'x'",
     "output_type": "error",
     "traceback": [
      "\u001b[1;31m---------------------------------------------------------------------------\u001b[0m",
      "\u001b[1;31mValueError\u001b[0m                                Traceback (most recent call last)",
      "Cell \u001b[1;32mIn[111], line 3\u001b[0m\n\u001b[0;32m      1\u001b[0m \u001b[38;5;66;03m#trying to create a piechart for corresponding values but realize that I would have to loop and assign? not sure\u001b[39;00m\n\u001b[1;32m----> 3\u001b[0m \u001b[43mplt\u001b[49m\u001b[38;5;241;43m.\u001b[39;49m\u001b[43mpie\u001b[49m\u001b[43m(\u001b[49m\u001b[43mdata_frame\u001b[49m\u001b[43m[\u001b[49m\u001b[38;5;124;43m\"\u001b[39;49m\u001b[38;5;124;43mBlood Manganese (ug/L)\u001b[39;49m\u001b[38;5;124;43m\"\u001b[39;49m\u001b[43m]\u001b[49m\u001b[43m,\u001b[49m\u001b[43m \u001b[49m\u001b[43mlabels\u001b[49m\u001b[43m \u001b[49m\u001b[38;5;241;43m=\u001b[39;49m\u001b[43m \u001b[49m\u001b[38;5;124;43m\"\u001b[39;49m\u001b[38;5;124;43mFeeling Depressed\u001b[39;49m\u001b[38;5;124;43m\"\u001b[39;49m\u001b[43m,\u001b[49m\u001b[43m \u001b[49m\u001b[43mautopct\u001b[49m\u001b[38;5;241;43m=\u001b[39;49m\u001b[38;5;124;43m'\u001b[39;49m\u001b[38;5;132;43;01m%1.1f\u001b[39;49;00m\u001b[38;5;132;43;01m%%\u001b[39;49;00m\u001b[38;5;124;43m'\u001b[39;49m\u001b[43m,\u001b[49m\u001b[43m \u001b[49m\u001b[43mshadow\u001b[49m\u001b[43m \u001b[49m\u001b[38;5;241;43m=\u001b[39;49m\u001b[43m \u001b[49m\u001b[38;5;28;43;01mTrue\u001b[39;49;00m\u001b[43m)\u001b[49m\n",
      "File \u001b[1;32m~\\anaconda3\\envs\\dev\\lib\\site-packages\\matplotlib\\pyplot.py:3558\u001b[0m, in \u001b[0;36mpie\u001b[1;34m(x, explode, labels, colors, autopct, pctdistance, shadow, labeldistance, startangle, radius, counterclock, wedgeprops, textprops, center, frame, rotatelabels, normalize, hatch, data)\u001b[0m\n\u001b[0;32m   3535\u001b[0m \u001b[38;5;129m@_copy_docstring_and_deprecators\u001b[39m(Axes\u001b[38;5;241m.\u001b[39mpie)\n\u001b[0;32m   3536\u001b[0m \u001b[38;5;28;01mdef\u001b[39;00m \u001b[38;5;21mpie\u001b[39m(\n\u001b[0;32m   3537\u001b[0m     x: ArrayLike,\n\u001b[1;32m   (...)\u001b[0m\n\u001b[0;32m   3556\u001b[0m     data\u001b[38;5;241m=\u001b[39m\u001b[38;5;28;01mNone\u001b[39;00m,\n\u001b[0;32m   3557\u001b[0m ) \u001b[38;5;241m-\u001b[39m\u001b[38;5;241m>\u001b[39m \u001b[38;5;28mtuple\u001b[39m[\u001b[38;5;28mlist\u001b[39m[Wedge], \u001b[38;5;28mlist\u001b[39m[Text]] \u001b[38;5;241m|\u001b[39m \u001b[38;5;28mtuple\u001b[39m[\u001b[38;5;28mlist\u001b[39m[Wedge], \u001b[38;5;28mlist\u001b[39m[Text], \u001b[38;5;28mlist\u001b[39m[Text]]:\n\u001b[1;32m-> 3558\u001b[0m     \u001b[38;5;28;01mreturn\u001b[39;00m gca()\u001b[38;5;241m.\u001b[39mpie(\n\u001b[0;32m   3559\u001b[0m         x,\n\u001b[0;32m   3560\u001b[0m         explode\u001b[38;5;241m=\u001b[39mexplode,\n\u001b[0;32m   3561\u001b[0m         labels\u001b[38;5;241m=\u001b[39mlabels,\n\u001b[0;32m   3562\u001b[0m         colors\u001b[38;5;241m=\u001b[39mcolors,\n\u001b[0;32m   3563\u001b[0m         autopct\u001b[38;5;241m=\u001b[39mautopct,\n\u001b[0;32m   3564\u001b[0m         pctdistance\u001b[38;5;241m=\u001b[39mpctdistance,\n\u001b[0;32m   3565\u001b[0m         shadow\u001b[38;5;241m=\u001b[39mshadow,\n\u001b[0;32m   3566\u001b[0m         labeldistance\u001b[38;5;241m=\u001b[39mlabeldistance,\n\u001b[0;32m   3567\u001b[0m         startangle\u001b[38;5;241m=\u001b[39mstartangle,\n\u001b[0;32m   3568\u001b[0m         radius\u001b[38;5;241m=\u001b[39mradius,\n\u001b[0;32m   3569\u001b[0m         counterclock\u001b[38;5;241m=\u001b[39mcounterclock,\n\u001b[0;32m   3570\u001b[0m         wedgeprops\u001b[38;5;241m=\u001b[39mwedgeprops,\n\u001b[0;32m   3571\u001b[0m         textprops\u001b[38;5;241m=\u001b[39mtextprops,\n\u001b[0;32m   3572\u001b[0m         center\u001b[38;5;241m=\u001b[39mcenter,\n\u001b[0;32m   3573\u001b[0m         frame\u001b[38;5;241m=\u001b[39mframe,\n\u001b[0;32m   3574\u001b[0m         rotatelabels\u001b[38;5;241m=\u001b[39mrotatelabels,\n\u001b[0;32m   3575\u001b[0m         normalize\u001b[38;5;241m=\u001b[39mnormalize,\n\u001b[0;32m   3576\u001b[0m         hatch\u001b[38;5;241m=\u001b[39mhatch,\n\u001b[0;32m   3577\u001b[0m         \u001b[38;5;241m*\u001b[39m\u001b[38;5;241m*\u001b[39m({\u001b[38;5;124m\"\u001b[39m\u001b[38;5;124mdata\u001b[39m\u001b[38;5;124m\"\u001b[39m: data} \u001b[38;5;28;01mif\u001b[39;00m data \u001b[38;5;129;01mis\u001b[39;00m \u001b[38;5;129;01mnot\u001b[39;00m \u001b[38;5;28;01mNone\u001b[39;00m \u001b[38;5;28;01melse\u001b[39;00m {}),\n\u001b[0;32m   3578\u001b[0m     )\n",
      "File \u001b[1;32m~\\anaconda3\\envs\\dev\\lib\\site-packages\\matplotlib\\__init__.py:1465\u001b[0m, in \u001b[0;36m_preprocess_data.<locals>.inner\u001b[1;34m(ax, data, *args, **kwargs)\u001b[0m\n\u001b[0;32m   1462\u001b[0m \u001b[38;5;129m@functools\u001b[39m\u001b[38;5;241m.\u001b[39mwraps(func)\n\u001b[0;32m   1463\u001b[0m \u001b[38;5;28;01mdef\u001b[39;00m \u001b[38;5;21minner\u001b[39m(ax, \u001b[38;5;241m*\u001b[39margs, data\u001b[38;5;241m=\u001b[39m\u001b[38;5;28;01mNone\u001b[39;00m, \u001b[38;5;241m*\u001b[39m\u001b[38;5;241m*\u001b[39mkwargs):\n\u001b[0;32m   1464\u001b[0m     \u001b[38;5;28;01mif\u001b[39;00m data \u001b[38;5;129;01mis\u001b[39;00m \u001b[38;5;28;01mNone\u001b[39;00m:\n\u001b[1;32m-> 1465\u001b[0m         \u001b[38;5;28;01mreturn\u001b[39;00m func(ax, \u001b[38;5;241m*\u001b[39m\u001b[38;5;28mmap\u001b[39m(sanitize_sequence, args), \u001b[38;5;241m*\u001b[39m\u001b[38;5;241m*\u001b[39mkwargs)\n\u001b[0;32m   1467\u001b[0m     bound \u001b[38;5;241m=\u001b[39m new_sig\u001b[38;5;241m.\u001b[39mbind(ax, \u001b[38;5;241m*\u001b[39margs, \u001b[38;5;241m*\u001b[39m\u001b[38;5;241m*\u001b[39mkwargs)\n\u001b[0;32m   1468\u001b[0m     auto_label \u001b[38;5;241m=\u001b[39m (bound\u001b[38;5;241m.\u001b[39marguments\u001b[38;5;241m.\u001b[39mget(label_namer)\n\u001b[0;32m   1469\u001b[0m                   \u001b[38;5;129;01mor\u001b[39;00m bound\u001b[38;5;241m.\u001b[39mkwargs\u001b[38;5;241m.\u001b[39mget(label_namer))\n",
      "File \u001b[1;32m~\\anaconda3\\envs\\dev\\lib\\site-packages\\matplotlib\\axes\\_axes.py:3240\u001b[0m, in \u001b[0;36mAxes.pie\u001b[1;34m(self, x, explode, labels, colors, autopct, pctdistance, shadow, labeldistance, startangle, radius, counterclock, wedgeprops, textprops, center, frame, rotatelabels, normalize, hatch)\u001b[0m\n\u001b[0;32m   3238\u001b[0m     explode \u001b[38;5;241m=\u001b[39m [\u001b[38;5;241m0\u001b[39m] \u001b[38;5;241m*\u001b[39m \u001b[38;5;28mlen\u001b[39m(x)\n\u001b[0;32m   3239\u001b[0m \u001b[38;5;28;01mif\u001b[39;00m \u001b[38;5;28mlen\u001b[39m(x) \u001b[38;5;241m!=\u001b[39m \u001b[38;5;28mlen\u001b[39m(labels):\n\u001b[1;32m-> 3240\u001b[0m     \u001b[38;5;28;01mraise\u001b[39;00m \u001b[38;5;167;01mValueError\u001b[39;00m(\u001b[38;5;124m\"\u001b[39m\u001b[38;5;124m'\u001b[39m\u001b[38;5;124mlabel\u001b[39m\u001b[38;5;124m'\u001b[39m\u001b[38;5;124m must be of length \u001b[39m\u001b[38;5;124m'\u001b[39m\u001b[38;5;124mx\u001b[39m\u001b[38;5;124m'\u001b[39m\u001b[38;5;124m\"\u001b[39m)\n\u001b[0;32m   3241\u001b[0m \u001b[38;5;28;01mif\u001b[39;00m \u001b[38;5;28mlen\u001b[39m(x) \u001b[38;5;241m!=\u001b[39m \u001b[38;5;28mlen\u001b[39m(explode):\n\u001b[0;32m   3242\u001b[0m     \u001b[38;5;28;01mraise\u001b[39;00m \u001b[38;5;167;01mValueError\u001b[39;00m(\u001b[38;5;124m\"\u001b[39m\u001b[38;5;124m'\u001b[39m\u001b[38;5;124mexplode\u001b[39m\u001b[38;5;124m'\u001b[39m\u001b[38;5;124m must be of length \u001b[39m\u001b[38;5;124m'\u001b[39m\u001b[38;5;124mx\u001b[39m\u001b[38;5;124m'\u001b[39m\u001b[38;5;124m\"\u001b[39m)\n",
      "\u001b[1;31mValueError\u001b[0m: 'label' must be of length 'x'"
     ]
    },
    {
     "data": {
      "image/png": "[encoded data removed]",
      "text/plain": [
       "<Figure size 640x480 with 1 Axes>"
      ]
     },
     "metadata": {},
     "output_type": "display_data"
    }
   ],
   "source": [
    "#trying to create a piechart for corresponding values but realize that I would have to loop and assign? not sure\n",
    "\n",
    "plt.pie(data_frame[\"Blood Manganese (ug/L)\"], labels = \"Feeling Depressed\", autopct='%1.1f%%', shadow = True)"
   ]
  },
  {
   "cell_type": "code",
   "execution_count": 114,
   "id": "e95cd6a9-1353-4a58-8555-4d4dd8d986ba",
   "metadata": {},
   "outputs": [
    {
     "ename": "UFuncTypeError",
     "evalue": "ufunc 'add' did not contain a loop with signature matching types (dtype('<U32'), dtype('<U32')) -> None",
     "output_type": "error",
     "traceback": [
      "\u001b[1;31m---------------------------------------------------------------------------\u001b[0m",
      "\u001b[1;31mUFuncTypeError\u001b[0m                            Traceback (most recent call last)",
      "Cell \u001b[1;32mIn[114], line 3\u001b[0m\n\u001b[0;32m      1\u001b[0m \u001b[38;5;66;03m#will plot a correlation coef chart instead\u001b[39;00m\n\u001b[1;32m----> 3\u001b[0m coef\u001b[38;5;241m=\u001b[39m \u001b[43mnp\u001b[49m\u001b[38;5;241;43m.\u001b[39;49m\u001b[43mcorrcoef\u001b[49m\u001b[43m(\u001b[49m\u001b[38;5;124;43m\"\u001b[39;49m\u001b[38;5;124;43mBlood Manganese (ug/L)\u001b[39;49m\u001b[38;5;124;43m\"\u001b[39;49m\u001b[43m,\u001b[49m\u001b[38;5;124;43m\"\u001b[39;49m\u001b[38;5;124;43mFeeling Depressed\u001b[39;49m\u001b[38;5;124;43m\"\u001b[39;49m\u001b[43m)\u001b[49m\n",
      "File \u001b[1;32m~\\anaconda3\\envs\\dev\\lib\\site-packages\\numpy\\lib\\function_base.py:2889\u001b[0m, in \u001b[0;36mcorrcoef\u001b[1;34m(x, y, rowvar, bias, ddof, dtype)\u001b[0m\n\u001b[0;32m   2885\u001b[0m \u001b[38;5;28;01mif\u001b[39;00m bias \u001b[38;5;129;01mis\u001b[39;00m \u001b[38;5;129;01mnot\u001b[39;00m np\u001b[38;5;241m.\u001b[39m_NoValue \u001b[38;5;129;01mor\u001b[39;00m ddof \u001b[38;5;129;01mis\u001b[39;00m \u001b[38;5;129;01mnot\u001b[39;00m np\u001b[38;5;241m.\u001b[39m_NoValue:\n\u001b[0;32m   2886\u001b[0m     \u001b[38;5;66;03m# 2015-03-15, 1.10\u001b[39;00m\n\u001b[0;32m   2887\u001b[0m     warnings\u001b[38;5;241m.\u001b[39mwarn(\u001b[38;5;124m'\u001b[39m\u001b[38;5;124mbias and ddof have no effect and are deprecated\u001b[39m\u001b[38;5;124m'\u001b[39m,\n\u001b[0;32m   2888\u001b[0m                   \u001b[38;5;167;01mDeprecationWarning\u001b[39;00m, stacklevel\u001b[38;5;241m=\u001b[39m\u001b[38;5;241m2\u001b[39m)\n\u001b[1;32m-> 2889\u001b[0m c \u001b[38;5;241m=\u001b[39m \u001b[43mcov\u001b[49m\u001b[43m(\u001b[49m\u001b[43mx\u001b[49m\u001b[43m,\u001b[49m\u001b[43m \u001b[49m\u001b[43my\u001b[49m\u001b[43m,\u001b[49m\u001b[43m \u001b[49m\u001b[43mrowvar\u001b[49m\u001b[43m,\u001b[49m\u001b[43m \u001b[49m\u001b[43mdtype\u001b[49m\u001b[38;5;241;43m=\u001b[39;49m\u001b[43mdtype\u001b[49m\u001b[43m)\u001b[49m\n\u001b[0;32m   2890\u001b[0m \u001b[38;5;28;01mtry\u001b[39;00m:\n\u001b[0;32m   2891\u001b[0m     d \u001b[38;5;241m=\u001b[39m diag(c)\n",
      "File \u001b[1;32m~\\anaconda3\\envs\\dev\\lib\\site-packages\\numpy\\lib\\function_base.py:2724\u001b[0m, in \u001b[0;36mcov\u001b[1;34m(m, y, rowvar, bias, ddof, fweights, aweights, dtype)\u001b[0m\n\u001b[0;32m   2721\u001b[0m     \u001b[38;5;28;01melse\u001b[39;00m:\n\u001b[0;32m   2722\u001b[0m         w \u001b[38;5;241m*\u001b[39m\u001b[38;5;241m=\u001b[39m aweights\n\u001b[1;32m-> 2724\u001b[0m avg, w_sum \u001b[38;5;241m=\u001b[39m \u001b[43maverage\u001b[49m\u001b[43m(\u001b[49m\u001b[43mX\u001b[49m\u001b[43m,\u001b[49m\u001b[43m \u001b[49m\u001b[43maxis\u001b[49m\u001b[38;5;241;43m=\u001b[39;49m\u001b[38;5;241;43m1\u001b[39;49m\u001b[43m,\u001b[49m\u001b[43m \u001b[49m\u001b[43mweights\u001b[49m\u001b[38;5;241;43m=\u001b[39;49m\u001b[43mw\u001b[49m\u001b[43m,\u001b[49m\u001b[43m \u001b[49m\u001b[43mreturned\u001b[49m\u001b[38;5;241;43m=\u001b[39;49m\u001b[38;5;28;43;01mTrue\u001b[39;49;00m\u001b[43m)\u001b[49m\n\u001b[0;32m   2725\u001b[0m w_sum \u001b[38;5;241m=\u001b[39m w_sum[\u001b[38;5;241m0\u001b[39m]\n\u001b[0;32m   2727\u001b[0m \u001b[38;5;66;03m# Determine the normalization\u001b[39;00m\n",
      "File \u001b[1;32m~\\anaconda3\\envs\\dev\\lib\\site-packages\\numpy\\lib\\function_base.py:520\u001b[0m, in \u001b[0;36maverage\u001b[1;34m(a, axis, weights, returned, keepdims)\u001b[0m\n\u001b[0;32m    517\u001b[0m     keepdims_kw \u001b[38;5;241m=\u001b[39m {\u001b[38;5;124m'\u001b[39m\u001b[38;5;124mkeepdims\u001b[39m\u001b[38;5;124m'\u001b[39m: keepdims}\n\u001b[0;32m    519\u001b[0m \u001b[38;5;28;01mif\u001b[39;00m weights \u001b[38;5;129;01mis\u001b[39;00m \u001b[38;5;28;01mNone\u001b[39;00m:\n\u001b[1;32m--> 520\u001b[0m     avg \u001b[38;5;241m=\u001b[39m a\u001b[38;5;241m.\u001b[39mmean(axis, \u001b[38;5;241m*\u001b[39m\u001b[38;5;241m*\u001b[39mkeepdims_kw)\n\u001b[0;32m    521\u001b[0m     avg_as_array \u001b[38;5;241m=\u001b[39m np\u001b[38;5;241m.\u001b[39masanyarray(avg)\n\u001b[0;32m    522\u001b[0m     scl \u001b[38;5;241m=\u001b[39m avg_as_array\u001b[38;5;241m.\u001b[39mdtype\u001b[38;5;241m.\u001b[39mtype(a\u001b[38;5;241m.\u001b[39msize\u001b[38;5;241m/\u001b[39mavg_as_array\u001b[38;5;241m.\u001b[39msize)\n",
      "File \u001b[1;32m~\\anaconda3\\envs\\dev\\lib\\site-packages\\numpy\\core\\_methods.py:118\u001b[0m, in \u001b[0;36m_mean\u001b[1;34m(a, axis, dtype, out, keepdims, where)\u001b[0m\n\u001b[0;32m    115\u001b[0m         dtype \u001b[38;5;241m=\u001b[39m mu\u001b[38;5;241m.\u001b[39mdtype(\u001b[38;5;124m'\u001b[39m\u001b[38;5;124mf4\u001b[39m\u001b[38;5;124m'\u001b[39m)\n\u001b[0;32m    116\u001b[0m         is_float16_result \u001b[38;5;241m=\u001b[39m \u001b[38;5;28;01mTrue\u001b[39;00m\n\u001b[1;32m--> 118\u001b[0m ret \u001b[38;5;241m=\u001b[39m \u001b[43mumr_sum\u001b[49m\u001b[43m(\u001b[49m\u001b[43marr\u001b[49m\u001b[43m,\u001b[49m\u001b[43m \u001b[49m\u001b[43maxis\u001b[49m\u001b[43m,\u001b[49m\u001b[43m \u001b[49m\u001b[43mdtype\u001b[49m\u001b[43m,\u001b[49m\u001b[43m \u001b[49m\u001b[43mout\u001b[49m\u001b[43m,\u001b[49m\u001b[43m \u001b[49m\u001b[43mkeepdims\u001b[49m\u001b[43m,\u001b[49m\u001b[43m \u001b[49m\u001b[43mwhere\u001b[49m\u001b[38;5;241;43m=\u001b[39;49m\u001b[43mwhere\u001b[49m\u001b[43m)\u001b[49m\n\u001b[0;32m    119\u001b[0m \u001b[38;5;28;01mif\u001b[39;00m \u001b[38;5;28misinstance\u001b[39m(ret, mu\u001b[38;5;241m.\u001b[39mndarray):\n\u001b[0;32m    120\u001b[0m     \u001b[38;5;28;01mwith\u001b[39;00m _no_nep50_warning():\n",
      "\u001b[1;31mUFuncTypeError\u001b[0m: ufunc 'add' did not contain a loop with signature matching types (dtype('<U32'), dtype('<U32')) -> None"
     ]
    }
   ],
   "source": [
    "#will plot a correlation coef chart instead\n",
    "# also maybe a spearman correlation test\n",
    "\n",
    "coef= np.corrcoef(\"Blood Manganese (ug/L)\",\"Feeling Depressed\") "
   ]
  },
  {
   "cell_type": "code",
   "execution_count": null,
   "id": "19c79ebd-1aad-446e-b164-d71d96ab4a9d",
   "metadata": {},
   "outputs": [],
   "source": [
    "#creating a correlation matrix\n",
    "#need to pull the two variables\n",
    "sliced = d\n",
    "corr_matrix="
   ]
  }
 ],
 "metadata": {
  "kernelspec": {
   "display_name": "Python 3 (ipykernel)",
   "language": "python",
   "name": "python3"
  },
  "language_info": {
   "codemirror_mode": {
    "name": "ipython",
    "version": 3
   },
   "file_extension": ".py",
   "mimetype": "text/x-python",
   "name": "python",
   "nbconvert_exporter": "python",
   "pygments_lexer": "ipython3",
   "version": "3.10.14"
  }
 },
 "nbformat": 4,
 "nbformat_minor": 5
}
